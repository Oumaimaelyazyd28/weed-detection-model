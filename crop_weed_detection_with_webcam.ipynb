{
 "cells": [
  {
   "cell_type": "code",
   "execution_count": null,
   "id": "d3cab5aa-a58f-43c6-8140-ddba680a5f08",
   "metadata": {},
   "outputs": [],
   "source": [
    "!pip install pyautogui"
   ]
  },
  {
   "cell_type": "code",
   "execution_count": 1,
   "id": "b9f3c2db-047c-4b74-bafb-3db48375699e",
   "metadata": {},
   "outputs": [],
   "source": [
    "import cv2\n",
    "import os\n",
    "import numpy as np\n",
    "\n",
    "# packages nécessaires pour la gestion des emails\n",
    "import smtplib\n",
    "from email.mime.text import MIMEText\n",
    "from email.mime.multipart import MIMEMultipart\n",
    "from email.mime.base import MIMEBase\n",
    "from email import encoders\n",
    "import ntpath\n",
    "import pyautogui"
   ]
  },
  {
   "cell_type": "code",
   "execution_count": 2,
   "id": "d9ddb4c4-f1bd-466f-9b64-2582e343d13a",
   "metadata": {},
   "outputs": [],
   "source": [
    "#loading class labels YOLO model was trained on\n",
    "labelsPath = 'obj.names'\n",
    "LABELS = open(labelsPath).read().strip().split(\"\\n\")"
   ]
  },
  {
   "cell_type": "code",
   "execution_count": 3,
   "id": "977cde5c-4334-4908-ac28-908ec3d815df",
   "metadata": {},
   "outputs": [],
   "source": [
    "#load weights and cfg\n",
    "weightsPath = 'crop_weed_detection.weights'\n",
    "configPath = 'crop_weed.cfg'"
   ]
  },
  {
   "cell_type": "code",
   "execution_count": 4,
   "id": "abf9a315-59e9-4a3c-a256-f08212efd7d0",
   "metadata": {},
   "outputs": [
    {
     "name": "stdout",
     "output_type": "stream",
     "text": [
      "[INFO] loading YOLO from disk...\n"
     ]
    }
   ],
   "source": [
    "#color selection for drawing bbox\n",
    "COLORS = np.random.randint(0, 255, size=(len(LABELS), 3),dtype=\"uint8\")\n",
    "print(\"[INFO] loading YOLO from disk...\")\n",
    "net = cv2.dnn.readNetFromDarknet(configPath, weightsPath)"
   ]
  },
  {
   "cell_type": "code",
   "execution_count": 5,
   "id": "9004da6a-caf2-45c4-af3a-fc877034162c",
   "metadata": {},
   "outputs": [],
   "source": [
    "#parameters\n",
    "confi = 0.5\n",
    "thresh = 0.5"
   ]
  },
  {
   "cell_type": "code",
   "execution_count": 6,
   "id": "e913bd08-17f4-4441-9b17-e248d3e7de13",
   "metadata": {},
   "outputs": [
    {
     "name": "stdout",
     "output_type": "stream",
     "text": [
      "Predicted ->  :   crop 0.714694082736969\n",
      "Predicted ->  :   crop 0.5791110396385193\n",
      "Predicted ->  :   weed 0.5694533586502075\n",
      "Predicted ->  :   weed 0.7171110510826111\n",
      "Predicted ->  :   weed 0.5067261457443237\n"
     ]
    },
    {
     "name": "stderr",
     "output_type": "stream",
     "text": [
      "\n",
      "KeyboardInterrupt\n",
      "\n"
     ]
    }
   ],
   "source": [
    "ln = net.getLayerNames()\n",
    "ln = [ln[i - 1] for i in net.getUnconnectedOutLayers()]\n",
    "\n",
    "\n",
    "# if you want to use webcam insted of video uncomment below line and comment line 24 \n",
    "cap = cv2.VideoCapture(0)\n",
    "\n",
    "#cap = cv2.VideoCapture(\"crop_weed_video.mp4\")\n",
    "\n",
    "while True:\n",
    "\tret,image = cap.read()\n",
    "\tif ret==True:\n",
    "\t\t(H, W) = image.shape[:2]\n",
    "\t\t#construct a blob from the input image and then perform a forward\n",
    "\t\t#pass of the YOLO object detector, giving us our bounding boxes and\n",
    "\t\t#associated probabilities\n",
    "\t\tblob = cv2.dnn.blobFromImage(image, 1 / 255.0, (512, 512),swapRB=True, crop=False)\n",
    "\t\tnet.setInput(blob)\n",
    "\t\tlayerOutputs = net.forward(ln)\n",
    "\t\tboxes = []\n",
    "\t\tconfidences = []\n",
    "\t\tclassIDs = []\n",
    "\t\tfor output in layerOutputs:\n",
    "\t\t\tfor detection in output:\n",
    "\t\t\t\tscores = detection[5:]\n",
    "\t\t\t\tclassID = np.argmax(scores)\n",
    "\t\t\t\tconfidence = scores[classID]\n",
    "\t\t\t\tif confidence > confi:\n",
    "\t\t\t\t\tbox = detection[0:4] * np.array([W,H,W,H])\n",
    "\t\t\t\t\t(centerX, centerY, width, height) = box.astype(\"int\")\n",
    "\t\t\t\t\tx = int(centerX - (width/2))\n",
    "\t\t\t\t\ty = int(centerY - (height / 2))\n",
    "\t\t\t\t\tboxes.append([x,y,int(width), int(height)])\n",
    "\t\t\t\t\tconfidences.append(float(confidence))\n",
    "\t\t\t\t\tclassIDs.append(classID)\n",
    "\t\tidxs = cv2.dnn.NMSBoxes(boxes, confidences, confi, thresh)\n",
    "       \n",
    "\t\tif len(idxs)>0:\n",
    "\t\t\tfor i in idxs.flatten():\n",
    "\t\t\t\t(x,y) = (boxes[i][0], boxes[i][1])\n",
    "\t\t\t\t(w,h) = (boxes[i][2], boxes[i][3])\n",
    "\t\t\t\tcolor = [int(c) for c in COLORS[classIDs[i]]]\n",
    "\t\t\t\tcv2.rectangle(image, (x, y), (x + w-100, y + h-100), color, 2)\n",
    "\t\t\t\tprint(\"Predicted ->  :  \",LABELS[classIDs[i]], confidences[i])\n",
    "                \n",
    "                 \n",
    "                    \n",
    "                    \n",
    "                    \n",
    "\t\t\t\ttext = \"{}: {:.4f}\".format(LABELS[classIDs[i]], confidences[i])\n",
    "\t\t\t\tcv2.putText(image, text, (x, y), cv2.FONT_HERSHEY_SIMPLEX,0.8, color, 2)\n",
    "\t\t\t\tdet = cv2.cvtColor(image,cv2.COLOR_BGR2RGB)\n",
    "\t\tcv2.imshow('frame', image)\n",
    "\t\tkey = cv2.waitKey(1) & 0xFF\n",
    "\t\tif key == ord('q'):\n",
    "\t\t\tbreak\n",
    "\telse:\n",
    "\t\tbreak\n",
    "\n",
    "cap.release()\n",
    "cv2.destroyAllWindows()"
   ]
  },
  {
   "cell_type": "code",
   "execution_count": null,
   "id": "f7ff7a29-19dd-4abb-bea8-28b12e09cc92",
   "metadata": {},
   "outputs": [],
   "source": []
  }
 ],
 "metadata": {
  "kernelspec": {
   "display_name": "Python 3 (ipykernel)",
   "language": "python",
   "name": "python3"
  },
  "language_info": {
   "codemirror_mode": {
    "name": "ipython",
    "version": 3
   },
   "file_extension": ".py",
   "mimetype": "text/x-python",
   "name": "python",
   "nbconvert_exporter": "python",
   "pygments_lexer": "ipython3",
   "version": "3.9.12"
  }
 },
 "nbformat": 4,
 "nbformat_minor": 5
}
