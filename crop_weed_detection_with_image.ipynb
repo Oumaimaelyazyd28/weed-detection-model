{
 "cells": [
  {
   "cell_type": "code",
   "execution_count": 17,
   "id": "00e10c9d-a40c-4368-8b83-bf17230798b8",
   "metadata": {},
   "outputs": [],
   "source": [
    "import cv2\n",
    "import numpy as np\n",
    "import matplotlib.pyplot as plt\n",
    "import time\n",
    "import os"
   ]
  },
  {
   "cell_type": "code",
   "execution_count": 18,
   "id": "ed05fd5e-f579-4fb1-ab51-4b28a4f0f3ad",
   "metadata": {},
   "outputs": [],
   "source": [
    "#loading class labels YOLO model was trained on\n",
    "labelsPath = 'obj.names'\n",
    "LABELS = open(labelsPath).read().strip().split(\"\\n\")"
   ]
  },
  {
   "cell_type": "code",
   "execution_count": 19,
   "id": "53cbd7e1-474b-4768-973e-58b3ff03e473",
   "metadata": {},
   "outputs": [
    {
     "name": "stdout",
     "output_type": "stream",
     "text": [
      "[INFO]     : loading YOLO from disk...\n"
     ]
    }
   ],
   "source": [
    "#load weights and cfg\n",
    "weightsPath = 'crop_weed_detection.weights'\n",
    "configPath = 'crop_weed.cfg'\n",
    "#color selection for drawing bbox\n",
    "COLORS = np.random.randint(0, 255, size=(len(LABELS), 3),dtype=\"uint8\")\n",
    "print(\"[INFO]     : loading YOLO from disk...\")\n",
    "net = cv2.dnn.readNetFromDarknet(configPath, weightsPath)"
   ]
  },
  {
   "cell_type": "code",
   "execution_count": 20,
   "id": "73f937af-e0d5-47b7-a9f6-08e430a327e3",
   "metadata": {},
   "outputs": [],
   "source": [
    "#load our input image and grab its spatial dimensions\n",
    "image = cv2.imread('images/weed_9.jpg')\n",
    "(H, W) = image.shape[:2]"
   ]
  },
  {
   "cell_type": "code",
   "execution_count": 21,
   "id": "a3d02170-ae1c-4cf7-9670-66c9f9858071",
   "metadata": {},
   "outputs": [],
   "source": [
    "#parameters\n",
    "confi = 0.5\n",
    "thresh = 0.5"
   ]
  },
  {
   "cell_type": "code",
   "execution_count": 22,
   "id": "77d56a1d-c52c-4431-a383-7a70eebfa2b7",
   "metadata": {},
   "outputs": [
    {
     "name": "stdout",
     "output_type": "stream",
     "text": [
      "[INFO]     : YOLO took 1.852123 seconds\n",
      "[INFO]     : Detections done, drawing bounding boxes...\n",
      "[OUTPUT]   : detected label ->  weed\n",
      "[ACCURACY] : accuracy ->  0.6349911093711853\n",
      "spray\n",
      "[STATUS]   : Completed\n",
      "[END]\n"
     ]
    }
   ],
   "source": [
    "#determine only the *output* layer names that we need from YOLO\n",
    "ln = net.getLayerNames()\n",
    "ln = [ln[i - 1] for i in net.getUnconnectedOutLayers()]\n",
    "\n",
    "#construct a blob from the input image and then perform a forward\n",
    "#pass of the YOLO object detector, giving us our bounding boxes and\n",
    "#associated probabilities\n",
    "blob = cv2.dnn.blobFromImage(image, 1 / 255.0, (512, 512),swapRB=True, crop=False)\n",
    "net.setInput(blob)\n",
    "start = time.time()\n",
    "layerOutputs = net.forward(ln)\n",
    "end = time.time()\n",
    "\n",
    "#show timing information on YOLO\n",
    "print(\"[INFO]     : YOLO took {:.6f} seconds\".format(end - start))\n",
    "\n",
    "#initialize our lists of detected bounding boxes, confidences, and\n",
    "#class IDs, respectively\n",
    "boxes = []\n",
    "confidences = []\n",
    "classIDs = []\n",
    "\n",
    "#loop over each of the layer outputs\n",
    "for output in layerOutputs:\n",
    "\t#loop over each of the detections\n",
    "\tfor detection in output:\n",
    "\t\t#extract the class ID and confidence (i.e., probability) of\n",
    "\t\t#the current object detection\n",
    "\t\tscores = detection[5:]\n",
    "\t\tclassID = np.argmax(scores)\n",
    "\t\tconfidence = scores[classID]\n",
    "\n",
    "\t\t#filter out weak predictions by ensuring the detected\n",
    "\t\t#probability is greater than the minimum probability\n",
    "\t\tif confidence > confi:\n",
    "\t\t\t#scale the bounding box coordinates back relative to the\n",
    "\t\t\t#size of the image, keeping in mind that YOLO actually\n",
    "\t\t\t#returns the center (x, y)-coordinates of the bounding\n",
    "\t\t\t#box followed by the boxes' width and height\n",
    "\t\t\tbox = detection[0:4] * np.array([W, H, W, H])\n",
    "\t\t\t(centerX, centerY, width, height) = box.astype(\"int\")\n",
    "\n",
    "\t\t\t#use the center (x, y)-coordinates to derive the top and\n",
    "\t\t\t#and left corner of the bounding box\n",
    "\t\t\tx = int(centerX - (width / 2))\n",
    "\t\t\ty = int(centerY - (height / 2))\n",
    "\n",
    "\t\t\t#update our list of bounding box coordinates, confidences,\n",
    "\t\t\t#and class IDs\n",
    "\t\t\tboxes.append([x, y, int(width), int(height)])\n",
    "\t\t\tconfidences.append(float(confidence))\n",
    "\t\t\tclassIDs.append(classID)\n",
    "\n",
    "#apply non-maxima suppression to suppress weak, overlapping bounding\n",
    "#boxes\n",
    "idxs = cv2.dnn.NMSBoxes(boxes, confidences, confi, thresh)\n",
    "print(\"[INFO]     : Detections done, drawing bounding boxes...\")\n",
    "#ensure at least one detection exists\n",
    "if len(idxs) > 0:\n",
    "\t#loop over the indexes we are keeping\n",
    "\tfor i in idxs.flatten():\n",
    "\t\t#extract the bounding box coordinates\n",
    "\t\t(x, y) = (boxes[i][0], boxes[i][1])\n",
    "\t\t(w, h) = (boxes[i][2], boxes[i][3])\n",
    "\n",
    "\t\t#draw a bounding box rectangle and label on the image\n",
    "\t\tcolor = [int(c) for c in COLORS[classIDs[i]]]\n",
    "\t\tcv2.rectangle(image, (x, y), (x + w-100, y + h-100), color, 2)\n",
    "\t\tprint(\"[OUTPUT]   : detected label -> \",LABELS[classIDs[i]])\n",
    "\t\tprint(\"[ACCURACY] : accuracy -> \", confidences[i])\n",
    "\t\t#ch1 = LABELS[classIDs[i]]\n",
    "\t\t#ch2 = \"weed\"\n",
    "\t\tif LABELS[classIDs[i]]==\"weed\":\n",
    "\t\t\tprint(\"spray\")\n",
    "\t\ttext = \"{} : {:.4f}\".format(LABELS[classIDs[i]] , confidences[i])\n",
    "        \n",
    "\t\tcv2.putText(image, text, (x, y), cv2.FONT_HERSHEY_SIMPLEX,0.8, color, 2)\n",
    "det = cv2.cvtColor(image,cv2.COLOR_BGR2RGB)\n",
    "cv2.imshow('Output', det)\n",
    " \n",
    "cv2.waitKey(0)\n",
    "cv2.destroyAllWindows()\n",
    "print(\"[STATUS]   : Completed\")\n",
    "print(\"[END]\")"
   ]
  },
  {
   "cell_type": "code",
   "execution_count": null,
   "id": "a5d1e4b3-616f-4cd0-b0e4-7c74f7a7dc8f",
   "metadata": {},
   "outputs": [],
   "source": []
  },
  {
   "cell_type": "code",
   "execution_count": null,
   "id": "32f7b2fc-5c03-4f60-824d-a500260c4d3e",
   "metadata": {},
   "outputs": [],
   "source": []
  }
 ],
 "metadata": {
  "kernelspec": {
   "display_name": "Python 3 (ipykernel)",
   "language": "python",
   "name": "python3"
  },
  "language_info": {
   "codemirror_mode": {
    "name": "ipython",
    "version": 3
   },
   "file_extension": ".py",
   "mimetype": "text/x-python",
   "name": "python",
   "nbconvert_exporter": "python",
   "pygments_lexer": "ipython3",
   "version": "3.9.12"
  }
 },
 "nbformat": 4,
 "nbformat_minor": 5
}
